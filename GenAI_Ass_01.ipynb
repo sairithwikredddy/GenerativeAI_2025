{
  "nbformat": 4,
  "nbformat_minor": 0,
  "metadata": {
    "colab": {
      "provenance": [],
      "authorship_tag": "ABX9TyMFwgtfoSYowwbT6TjdoneE",
      "include_colab_link": true
    },
    "kernelspec": {
      "name": "python3",
      "display_name": "Python 3"
    },
    "language_info": {
      "name": "python"
    }
  },
  "cells": [
    {
      "cell_type": "markdown",
      "metadata": {
        "id": "view-in-github",
        "colab_type": "text"
      },
      "source": [
        "<a href=\"https://colab.research.google.com/github/sairithwikredddy/GenerativeAI_2025/blob/main/GenAI_Ass_01.ipynb\" target=\"_parent\"><img src=\"https://colab.research.google.com/assets/colab-badge.svg\" alt=\"Open In Colab\"/></a>"
      ]
    },
    {
      "cell_type": "code",
      "execution_count": 2,
      "metadata": {
        "id": "m3-Z3MVbNCX8"
      },
      "outputs": [],
      "source": [
        "import numpy as np\n",
        "from sklearn.metrics import mean_squared_error, mean_absolute_error, r2_score"
      ]
    },
    {
      "cell_type": "code",
      "source": [
        "y_actual=np.array([20,30,40,50,60])\n",
        "y_pred=np.array([20.5,30.3,40.2,50.6,60.7])"
      ],
      "metadata": {
        "id": "bKByWwtrNV4h"
      },
      "execution_count": 3,
      "outputs": []
    },
    {
      "cell_type": "code",
      "source": [
        "mae = np.mean(np.abs(y_actual- y_pred))\n",
        "print(f\"Mean Absolute Error (MAE): {mae}\")\n",
        "mse = np.mean((y_actual - y_pred) ** 2)\n",
        "print(f\"Mean Squared Error (MSE): {mse}\")\n",
        "rmse = np.sqrt(mse)\n",
        "print(f\"Root Mean Square Error (RMSE): {rmse}\")\n",
        "mape = np.mean(np.abs((y_actual - y_pred) / y_actual)) * 100\n",
        "print(f\"Mean Absolute Percentage Error (MAPE): {mape}\")\n",
        "r2 = r2_score(y_actual, y_pred) # Changed y_act to y_actual\n",
        "print(f\"R-squared (R2): {r2}\")"
      ],
      "metadata": {
        "colab": {
          "base_uri": "https://localhost:8080/"
        },
        "id": "FqnCIUlLNnOj",
        "outputId": "34e449be-8426-4bb5-9835-d4639e3664b6"
      },
      "execution_count": 5,
      "outputs": [
        {
          "output_type": "stream",
          "name": "stdout",
          "text": [
            "Mean Absolute Error (MAE): 0.4600000000000016\n",
            "Mean Squared Error (MSE): 0.24600000000000147\n",
            "Root Mean Square Error (RMSE): 0.49598387070549127\n",
            "Mean Absolute Percentage Error (MAPE): 1.273333333333337\n",
            "R-squared (R2): 0.99877\n"
          ]
        }
      ]
    },
    {
      "cell_type": "code",
      "source": [
        "y_actual1=np.array([0,0,0,0,0])\n",
        "y_pred1=np.array([0,0,1,2,2])"
      ],
      "metadata": {
        "id": "B4wyPXKRNwkC"
      },
      "execution_count": 6,
      "outputs": []
    },
    {
      "source": [
        "mse1 = mean_squared_error(y_actual1, y_pred1)\n",
        "print(f\"Mean Squared Error (MSE): {mse1}\")\n",
        "mae1 = mean_absolute_error(y_actual1, y_pred1)\n",
        "print(f\"Mean Absolute Error (MAE): {mae1}\")\n",
        "rmse1 = np.sqrt(mse1)\n",
        "print(f\"Root Mean Square Error (RMSE): {rmse1}\")\n",
        "r2_1 = r2_score(y_actual1, y_pred1) # Changed y_act1 to y_actual1\n",
        "print(f\"R-squared (R2): {r2_1}\")"
      ],
      "cell_type": "code",
      "metadata": {
        "colab": {
          "base_uri": "https://localhost:8080/"
        },
        "id": "IGMFar5uN635",
        "outputId": "5d2b0223-218d-493d-f76d-8841aacfcce3"
      },
      "execution_count": 8,
      "outputs": [
        {
          "output_type": "stream",
          "name": "stdout",
          "text": [
            "Mean Squared Error (MSE): 1.8\n",
            "Mean Absolute Error (MAE): 1.0\n",
            "Root Mean Square Error (RMSE): 1.3416407864998738\n",
            "R-squared (R2): 0.0\n"
          ]
        }
      ]
    },
    {
      "cell_type": "code",
      "source": [],
      "metadata": {
        "id": "PUKVTiN9N22D"
      },
      "execution_count": null,
      "outputs": []
    }
  ]
}