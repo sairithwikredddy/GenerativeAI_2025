{
  "nbformat": 4,
  "nbformat_minor": 0,
  "metadata": {
    "colab": {
      "provenance": [],
      "authorship_tag": "ABX9TyOBxleSVYQ5IMwXJGXmkOTv",
      "include_colab_link": true
    },
    "kernelspec": {
      "name": "python3",
      "display_name": "Python 3"
    },
    "language_info": {
      "name": "python"
    }
  },
  "cells": [
    {
      "cell_type": "markdown",
      "metadata": {
        "id": "view-in-github",
        "colab_type": "text"
      },
      "source": [
        "<a href=\"https://colab.research.google.com/github/sairithwikredddy/GenerativeAI_2025/blob/main/GenAI_Ass_03.ipynb\" target=\"_parent\"><img src=\"https://colab.research.google.com/assets/colab-badge.svg\" alt=\"Open In Colab\"/></a>"
      ]
    },
    {
      "cell_type": "code",
      "execution_count": 1,
      "metadata": {
        "colab": {
          "base_uri": "https://localhost:8080/"
        },
        "id": "f9_1OpcZRTye",
        "outputId": "78f12d1c-201d-4e66-99d3-3d3498759776"
      },
      "outputs": [
        {
          "output_type": "stream",
          "name": "stdout",
          "text": [
            "The value of x at which f(x) is minimized is: 0.0\n"
          ]
        }
      ],
      "source": [
        "def gradient_descent_f(initial_x, learning_rate, max_iterations, tolerance):\n",
        "    x = initial_x\n",
        "    for i in range(max_iterations):\n",
        "        gradient = 20 * x**3 + 6 * x\n",
        "        next_x = x - learning_rate * gradient\n",
        "        if abs(next_x - x) < tolerance:\n",
        "            break\n",
        "        x = next_x\n",
        "    return x\n",
        "initial_x = 0.0\n",
        "learning_rate = 0.1\n",
        "max_iterations = 1000\n",
        "tolerance = 1e-6\n",
        "min_x = gradient_descent_f(initial_x, learning_rate, max_iterations, tolerance)\n",
        "print(f\"The value of x at which f(x) is minimized is: {min_x}\")"
      ]
    },
    {
      "cell_type": "code",
      "source": [
        "def gradient_descent_g(initial_x, initial_y, learning_rate, max_iterations, tolerance):\n",
        "    x, y = initial_x, initial_y\n",
        "    for i in range(max_iterations):\n",
        "        gradient_x = 6 * x\n",
        "        gradient_y = -5 * pow(2.718, -y)\n",
        "        next_x = x - learning_rate * gradient_x\n",
        "        next_y = y - learning_rate * gradient_y\n",
        "        if abs(next_x - x) < tolerance and abs(next_y - y) < tolerance:\n",
        "            break\n",
        "        x, y = next_x, next_y\n",
        "    return x, y\n",
        "initial_x = 0.0\n",
        "initial_y = 0.0\n",
        "learning_rate = 0.1\n",
        "max_iterations = 1000\n",
        "tolerance = 1e-6\n",
        "min_x, min_y = gradient_descent_g(initial_x, initial_y, learning_rate, max_iterations, tolerance)\n",
        "print(f\"The value of x and y at which g(x, y) is minimized are: x = {min_x}, y = {min_y}\")"
      ],
      "metadata": {
        "colab": {
          "base_uri": "https://localhost:8080/"
        },
        "id": "05XYuBviRd5E",
        "outputId": "fc8d702c-051e-479c-c057-30e17d078505"
      },
      "execution_count": 2,
      "outputs": [
        {
          "output_type": "stream",
          "name": "stdout",
          "text": [
            "The value of x and y at which g(x, y) is minimized are: x = 0.0, y = 6.220350607919344\n"
          ]
        }
      ]
    },
    {
      "cell_type": "code",
      "source": [
        "def sigmoid_derivative(x):\n",
        "    sig = 1 / (1 + 2.71828**(-x))\n",
        "    return sig * (1 - sig)\n",
        "min_x_sigmoid = gradient_descent_f(0.0, 0.1, 1000, 1e-6)\n",
        "print(f\"Minimum value of x for sigmoid function: {min_x_sigmoid}\")"
      ],
      "metadata": {
        "colab": {
          "base_uri": "https://localhost:8080/"
        },
        "id": "evuuh3PgRjq2",
        "outputId": "212045bb-048a-43f5-bd6f-c5087abe5849"
      },
      "execution_count": 3,
      "outputs": [
        {
          "output_type": "stream",
          "name": "stdout",
          "text": [
            "Minimum value of x for sigmoid function: 0.0\n"
          ]
        }
      ]
    },
    {
      "cell_type": "code",
      "source": [
        "def gradient_descent_linear(f_prime_m, f_prime_c, m0, c0, learning_rate=0.1, tolerance=1e-6, max_iter=1000):\n",
        "    m, c = m0, c0\n",
        "    for i in range(max_iter):\n",
        "        grad_m = f_prime_m(m, c)\n",
        "        grad_c = f_prime_c(m, c)\n",
        "        new_m = m - learning_rate * grad_m\n",
        "        new_c = c - learning_rate * grad_c\n",
        "        if abs(new_m - m) < tolerance and abs(new_c - c) < tolerance:\n",
        "            break\n",
        "        m, c = new_m, new_c\n",
        "    return m, c\n",
        "def f_prime_m(m, c):\n",
        "    x, y = 1, 2\n",
        "    return -2 * x * (y - (m * x + c))\n",
        "def f_prime_c(m, c):\n",
        "    x, y = 1, 2\n",
        "    return -2 * (y - (m * x + c))\n",
        "m0, c0 = 0.0, 0.0\n",
        "min_m, min_c = gradient_descent_linear(f_prime_m, f_prime_c, m0, c0)\n",
        "print(f\"Optimal values of M and C: {min_m}, {min_c}\")"
      ],
      "metadata": {
        "colab": {
          "base_uri": "https://localhost:8080/"
        },
        "id": "prcfQnXeRl_8",
        "outputId": "62964183-e538-48d1-863b-7b8ebe2c3910"
      },
      "execution_count": 4,
      "outputs": [
        {
          "output_type": "stream",
          "name": "stdout",
          "text": [
            "Optimal values of M and C: 0.9999982941827182, 0.9999982941827182\n"
          ]
        }
      ]
    },
    {
      "cell_type": "code",
      "source": [],
      "metadata": {
        "id": "iW2mPf2MRotr"
      },
      "execution_count": null,
      "outputs": []
    }
  ]
}